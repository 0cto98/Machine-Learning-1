{
 "cells": [
  {
   "cell_type": "markdown",
   "metadata": {},
   "source": [
    "# A First Empirical Exploration of Machine Learning Concepts\n",
    "\n",
    "## Basics\n",
    "In the following, we will lay out a few core definitions of Machine Learning concepts. We will then explore those concepts in simple cases.\n",
    "\n",
    "### A Simple Regression Task\n",
    "\n",
    "In this first exploration we will consider the *regression task* in which we are given a *training set* $S=\\{(x_1,y_1),\\ldots,(x_m,y_m)\\}$ of *examples* $(x_i,y_i)$, where: \n",
    "+ $x_i \\in {\\cal X}$ is called the *input* or the *instance*, \n",
    "+ ${\\cal X}$ is the *domain set*, \n",
    "+ $y_i\\in{\\cal Y}$ is called the *output*, the *target* or the *label* and \n",
    "+ ${\\cal Y}$ the *label set*. \n",
    "\n",
    "Our strategy to solve the regression task is to *learn* a *model* $h:{\\cal X}\\rightarrow {\\cal Y}$ or to \"teach\" a learner to come up with a prediction rule to predict the ouputs associated to the inputs. "
   ]
  },
  {
   "cell_type": "code",
   "execution_count": 9,
   "metadata": {},
   "outputs": [],
   "source": [
    "import pandas as pd\n",
    "import numpy as np\n",
    "import matplotlib.pyplot as plt\n",
    "%matplotlib inline"
   ]
  },
  {
   "cell_type": "code",
   "execution_count": 10,
   "metadata": {},
   "outputs": [
    {
     "data": {
      "text/plain": [
       "(50, 2)"
      ]
     },
     "execution_count": 10,
     "metadata": {},
     "output_type": "execute_result"
    }
   ],
   "source": [
    "train = pd.read_csv(\"./simpledata_train.csv\")\n",
    "train.shape"
   ]
  },
  {
   "cell_type": "code",
   "execution_count": 11,
   "metadata": {},
   "outputs": [
    {
     "data": {
      "text/plain": [
       "<matplotlib.axes._subplots.AxesSubplot at 0x22e66620640>"
      ]
     },
     "execution_count": 11,
     "metadata": {},
     "output_type": "execute_result"
    },
    {
     "data": {
      "image/png": "[encoded data removed]",
      "text/plain": [
       "<Figure size 432x288 with 1 Axes>"
      ]
     },
     "metadata": {
      "needs_background": "light"
     },
     "output_type": "display_data"
    }
   ],
   "source": [
    "train.plot.scatter(\"x\", \"y\")"
   ]
  },
  {
   "cell_type": "markdown",
   "metadata": {},
   "source": [
    "### A Simple Regression Model\n",
    "As a simple learner we will consider a **nearest neighbor regressor**. The nearest neighbor prediction rule is based on pooling the outputs of the nearest instances to take a decision. Given an instance $z\\in{\\cal X}$ the predicted output of a $k-$nearest neighbor regressor will be $$h(z)=\\frac{1}{k}\\sum_{i\\in{\\cal N}_k(z, S)} y_i$$ where ${\\cal N}_k(z, S)$ is the set of the $k$ nearest instances in $S$ to $z$ according to a pre-specified distance."
   ]
  },
  {
   "cell_type": "code",
   "execution_count": 12,
   "metadata": {},
   "outputs": [
    {
     "data": {
      "text/plain": [
       "KNeighborsRegressor(n_neighbors=2)"
      ]
     },
     "execution_count": 12,
     "metadata": {},
     "output_type": "execute_result"
    }
   ],
   "source": [
    "from sklearn import neighbors\n",
    "# #############################################################################\n",
    "# Fit regression model\n",
    "k = 2\n",
    "X = train[\"x\"].values[:,np.newaxis] # column matrix instead of line vector\n",
    "y = train[\"y\"]\n",
    "\n",
    "knn = neighbors.KNeighborsRegressor(k)\n",
    "knn.fit(X, y)"
   ]
  },
  {
   "cell_type": "markdown",
   "metadata": {},
   "source": [
    "To visualise the prediction rule lets compute the prediction for a range of points in the support of the instances:  "
   ]
  },
  {
   "cell_type": "code",
   "execution_count": 13,
   "metadata": {},
   "outputs": [
    {
     "data": {
      "text/plain": [
       "Text(0.5, 1.0, 'KNeighborsRegressor k = 2')"
      ]
     },
     "execution_count": 13,
     "metadata": {},
     "output_type": "execute_result"
    },
    {
     "data": {
      "image/png": "[encoded data removed]",
      "text/plain": [
       "<Figure size 432x288 with 1 Axes>"
      ]
     },
     "metadata": {
      "needs_background": "light"
     },
     "output_type": "display_data"
    }
   ],
   "source": [
    "xsupport = pd.DataFrame(np.linspace(min(train.x),max(train.x),500))\n",
    "y_ = knn.predict(xsupport)\n",
    "\n",
    "plt.scatter(train[\"x\"], train[\"y\"], c='k', label='data')\n",
    "plt.plot(xsupport, y_, c='g', label='prediction')\n",
    "plt.xlabel(\"x\")\n",
    "plt.ylabel(\"y\")\n",
    "plt.legend()\n",
    "plt.title(\"KNeighborsRegressor k = \" + str(k))"
   ]
  },
  {
   "cell_type": "markdown",
   "metadata": {},
   "source": [
    "### How good is the prediction?\n",
    "To measure how good the prediction rule $h_S(x)=\\hat{y}$ learned over training set $S$ is for an example $(x,y)$ we compute the *squared residual error* $(\\hat{y}-y)^2$. To measure how good the prediction is on a set of examples we compute a *loss function* for example the *mean squared error (MSE)*. The training error is the loss function computed over the training set: $$l(S,h_S)=\\frac{1}{m} \\sum_{(x_i,y_i)\\in S} (h_S(x_i)-y_i)^2 $$"
   ]
  },
  {
   "cell_type": "code",
   "execution_count": 14,
   "metadata": {},
   "outputs": [
    {
     "data": {
      "text/plain": [
       "12.366034124597014"
      ]
     },
     "execution_count": 14,
     "metadata": {},
     "output_type": "execute_result"
    }
   ],
   "source": [
    "from sklearn.metrics import mean_squared_error\n",
    "yhat_train = knn.predict(X)\n",
    "mean_squared_error(y, yhat_train)"
   ]
  },
  {
   "cell_type": "markdown",
   "metadata": {},
   "source": [
    "The training examples where generated by an unknown distribution ${\\cal D}$. Another measure of success is how good is our prediction rule on unseen examples generated by the same distribution ${\\cal D}$. The *generalisation error* is the loss function computed on a *test* set $E$ sampled from distribution ${\\cal D}$:\n",
    "$$l(E,h_S)=\\frac{1}{m_E} \\sum_{(x_i, y_i)\\in E} (h_S(x_i)-y_i)^2 $$"
   ]
  },
  {
   "cell_type": "code",
   "execution_count": 15,
   "metadata": {
    "scrolled": true
   },
   "outputs": [
    {
     "data": {
      "text/plain": [
       "<matplotlib.axes._subplots.AxesSubplot at 0x22e66793eb0>"
      ]
     },
     "execution_count": 15,
     "metadata": {},
     "output_type": "execute_result"
    },
    {
     "data": {
      "image/png": "[encoded data removed]",
      "text/plain": [
       "<Figure size 432x288 with 1 Axes>"
      ]
     },
     "metadata": {
      "needs_background": "light"
     },
     "output_type": "display_data"
    }
   ],
   "source": [
    "from unknown_distrib import data_sample\n",
    "train2 = data_sample(50)\n",
    "\n",
    "ax=train.plot(kind=\"scatter\", x=\"x\", y=\"y\")\n",
    "train2.plot(kind=\"scatter\", x=\"x\", y=\"y\",ax=ax, color=\"red\")"
   ]
  },
  {
   "cell_type": "code",
   "execution_count": 16,
   "metadata": {},
   "outputs": [
    {
     "data": {
      "text/plain": [
       "35.03502108936178"
      ]
     },
     "execution_count": 16,
     "metadata": {},
     "output_type": "execute_result"
    }
   ],
   "source": [
    "#Q2\n",
    "from sklearn.metrics import mean_squared_error\n",
    "test = pd.read_csv(\"./simpledata_test.csv\")\n",
    "x2 = test[\"x\"].values[:,np.newaxis] # column matrix instead of line vector\n",
    "y2 = test[\"y\"]\n",
    "y2hat_test = knn.predict(x2)\n",
    "mean_squared_error(y2, y2hat_test)\n",
    "\n"
   ]
  },
  {
   "cell_type": "code",
   "execution_count": 17,
   "metadata": {},
   "outputs": [
    {
     "name": "stdout",
     "output_type": "stream",
     "text": [
      "Training explained variance =0.88189\n",
      "Generalisation errors explained variance =0.60494\n"
     ]
    }
   ],
   "source": [
    "#Q3\n",
    "from sklearn.metrics import explained_variance_score\n",
    "a=explained_variance_score(y, yhat_train)\n",
    "b=explained_variance_score(y2,y2hat_test)\n",
    "print(\"Training explained variance =\"+str(round(a,5)))\n",
    "print(\"Generalisation errors explained variance =\"+str(round(b,5)))"
   ]
  },
  {
   "cell_type": "code",
   "execution_count": 18,
   "metadata": {},
   "outputs": [
    {
     "name": "stdout",
     "output_type": "stream",
     "text": [
      "Training error: Mean=13.13857 , Variance=11.73022\n",
      "Generalisation error: Mean=38.97743 , Variance=61.90507\n"
     ]
    }
   ],
   "source": [
    "#Q4\n",
    "from sklearn import neighbors\n",
    "from unknown_distrib import data_sample\n",
    "from sklearn.metrics import mean_squared_error\n",
    "from numpy import var\n",
    "loop = 100\n",
    "train_list = []\n",
    "general_list = []\n",
    "\n",
    "for i in range(loop):\n",
    "    #Generate a training set\n",
    "    train4 = data_sample(50)\n",
    "    k4 = 2\n",
    "    x4 = train4[\"x\"].values[:,np.newaxis]\n",
    "    y4 = train4[\"y\"]\n",
    "    #Training on 'train4'\n",
    "    knn4 = neighbors.KNeighborsRegressor(k4)\n",
    "    knn4.fit(x4, y4)\n",
    "    #Prediction on 'train4'\n",
    "    y_train4 = knn4.predict(x4)\n",
    "    #Then measure how good is prediction\n",
    "    a=mean_squared_error(y4, y_train4)\n",
    "    train_list.append(a)\n",
    "    #Generate an other set for generalisation errors\n",
    "    test4 = data_sample(50)\n",
    "    x4 = test4[\"x\"].values[:,np.newaxis]\n",
    "    y4 = test4[\"y\"]\n",
    "    #Prediction on 'test' after training on 'train'\n",
    "    y_test4 = knn4.predict(x4)\n",
    "    #Then measure prediction quality\n",
    "    b=mean_squared_error(y4, y_test4)\n",
    "    general_list.append(b)\n",
    "    \n",
    "train_mean = sum(train_list)/len(train_list)\n",
    "train_variance = var(train_list)\n",
    "general_mean = sum(general_list)/len(general_list)\n",
    "general_variance = var(general_list)\n",
    "print(\"Training error: Mean=\"+str(round(train_mean,5))+\" , Variance=\"+str(round(train_variance,5)))\n",
    "print(\"Generalisation error: Mean=\"+str(round(general_mean,5))+\" , Variance=\"+str(round(general_variance,5)))"
   ]
  },
  {
   "cell_type": "code",
   "execution_count": 60,
   "metadata": {},
   "outputs": [
    {
     "data": {
      "text/plain": [
       "<matplotlib.legend.Legend at 0x22e67de4d00>"
      ]
     },
     "execution_count": 60,
     "metadata": {},
     "output_type": "execute_result"
    },
    {
     "data": {
      "image/png": "[encoded data removed]",
      "text/plain": [
       "<Figure size 432x288 with 1 Axes>"
      ]
     },
     "metadata": {
      "needs_background": "light"
     },
     "output_type": "display_data"
    }
   ],
   "source": [
    "#Q5\n",
    "from sklearn import neighbors\n",
    "from unknown_distrib import data_sample\n",
    "from sklearn.metrics import mean_squared_error\n",
    "from numpy import var\n",
    "#Generate a training set\n",
    "set_size = 50\n",
    "k5 = 2\n",
    "sample_size_list = []\n",
    "error_list = []\n",
    "\n",
    "for i in range(100):\n",
    "    sample_size = set_size*(i+1)\n",
    "    train5 = data_sample(sample_size)\n",
    "    x5 = train5[\"x\"].values[:,np.newaxis]\n",
    "    y5 = train5[\"y\"]\n",
    "    #Training on 'train5'\n",
    "    knn5 = neighbors.KNeighborsRegressor(k5)\n",
    "    knn5.fit(x5, y5)\n",
    "    #Prediction on 'train5'\n",
    "    y_train5 = knn5.predict(x5)\n",
    "    #Then measure how good is prediction & store it in list\n",
    "    a=mean_squared_error(y5, y_train5)\n",
    "    error_list.append(a)\n",
    "    sample_size_list.append(sample_size)\n",
    "    \n",
    "plt.scatter(sample_size_list, error_list, c='k', label='Prediction error')\n",
    "plt.xlabel(\"Size of training set\")\n",
    "plt.ylabel(\"MSE\")\n",
    "plt.legend()\n",
    "    "
   ]
  },
  {
   "cell_type": "markdown",
   "metadata": {},
   "source": [
    "> ## Questions:\n",
    "> 1. What is the domain set in the simple dataset?    **#Q1 [-5;5]**\n",
    "> 1. Compute the generalisation error using `simpledata_test.csv`.\n",
    "> 1. As a loss function we could also consider the [explained variance](https://scikit-learn.org/stable/modules/model_evaluation.html#explained-variance-score). How does it relate to MSE? Compute training and generalisation errors for this loss function.\n",
    "> 1. How dependent is the prediction on the training set? Lets assume we can ask for another training set (see next section). Compute the training and generalisation error for this new training set. Repeat the experiment several times in order to get a mean and a variance.\n",
    "> 1. How dependent is the prediction on the size of the training set? Draw a plot to visualise it.\n",
    "> 1. How dependent is the prediction on the hyperparameter $k$? Draw a plot to visualise it.\n",
    "\n",
    "## Unlimited sample simulation"
   ]
  },
  {
   "cell_type": "code",
   "execution_count": 63,
   "metadata": {},
   "outputs": [
    {
     "data": {
      "text/plain": [
       "<matplotlib.legend.Legend at 0x22e66cbd2e0>"
      ]
     },
     "execution_count": 63,
     "metadata": {},
     "output_type": "execute_result"
    },
    {
     "data": {
      "image/png": "[encoded data removed]",
      "text/plain": [
       "<Figure size 432x288 with 1 Axes>"
      ]
     },
     "metadata": {
      "needs_background": "light"
     },
     "output_type": "display_data"
    }
   ],
   "source": [
    "#Q6\n",
    "from sklearn import neighbors\n",
    "from unknown_distrib import data_sample\n",
    "from sklearn.metrics import mean_squared_error\n",
    "from numpy import var\n",
    "#Generate a training set\n",
    "sample_size = 50\n",
    "train6 = data_sample(sample_size)\n",
    "x6 = train6[\"x\"].values[:,np.newaxis]\n",
    "y6 = train6[\"y\"]\n",
    "\n",
    "k_size_list = []\n",
    "error_list = []\n",
    "\n",
    "for i in range(1,sample_size):\n",
    "    #Training on 'train6'\n",
    "    knn6 = neighbors.KNeighborsRegressor(i)\n",
    "    knn6.fit(x6, y6)\n",
    "    #Prediction on 'train6'\n",
    "    y_train6 = knn6.predict(x6)\n",
    "    #Then measure how good is prediction & store it in list\n",
    "    a=mean_squared_error(y6, y_train6)\n",
    "    error_list.append(a)\n",
    "    k_size_list.append(i)\n",
    "    \n",
    "plt.scatter(k_size_list, error_list, c='k', label='Prediction error')\n",
    "plt.xlabel(\"k\")\n",
    "plt.ylabel(\"MSE\")\n",
    "plt.legend()\n"
   ]
  },
  {
   "cell_type": "code",
   "execution_count": null,
   "metadata": {},
   "outputs": [],
   "source": []
  }
 ],
 "metadata": {
  "kernelspec": {
   "display_name": "Python 3",
   "language": "python",
   "name": "python3"
  },
  "language_info": {
   "codemirror_mode": {
    "name": "ipython",
    "version": 3
   },
   "file_extension": ".py",
   "mimetype": "text/x-python",
   "name": "python",
   "nbconvert_exporter": "python",
   "pygments_lexer": "ipython3",
   "version": "3.8.3"
  }
 },
 "nbformat": 4,
 "nbformat_minor": 2
}
