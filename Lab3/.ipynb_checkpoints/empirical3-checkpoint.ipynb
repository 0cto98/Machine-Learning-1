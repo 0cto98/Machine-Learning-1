{
 "cells": [
  {
   "cell_type": "markdown",
   "metadata": {},
   "source": [
    "# A Third Empirical Exploration of Machine Learning Concepts \n",
    "\n",
    "## Linear classifiers\n",
    "Lets define the class of affine function $${\\cal L}_d = \\{h_{\\mathbf{w},b}: \\mathbf{w}\\in\\mathbb{R}^d, b\\in\\mathbb{R}\\},$$\n",
    "where $$h_{\\mathbf{w},b}(\\mathbf{x})=\\mathbf{w}\\cdot \\mathbf{x}+b = \\sum_{j=1}^d w_jx_j + b.$$\n",
    "\n",
    "### The perceptron\n",
    "<img src=\"perceptron_a.png\" alt=\"perceptron unit\" style=\"width: 200px;\"/>\n",
    "\n",
    "The perceptron algorithm was proposed by Rosenblatt in 1958. It is inspired by the biological neuron cell. The perceptron is described by:\n",
    "- Input: $\\mathbf{x}=(x_1,\\ldots,x_d)\\in\\mathbb{R}^d$ \n",
    "- Output: $y\\in\\{-1,1\\}$\n",
    "- Parameter: $\\mathbf{w}=(w_1,\\ldots,w_d)\\in\\mathbb{R}^d$\n",
    "- 2 steps:\n",
    "  + integration: $f(\\mathbf{x})=\\mathbf{w}\\cdot \\mathbf{x} = \\sum_{r=1}^d w_r x_r$\n",
    "  + transfer: $g\\circ f(\\mathbf{x}) = \\textrm{sign}(f(\\mathbf{x}))$\n",
    "\n",
    "The perceptron training algorithm goes as follows:\n",
    "- Input: A training set $S = \\{(\\mathbf{x}_1, y_1), \\ldots,(\\mathbf{x}_m, y_m)\\}$\n",
    "- Initialization: $t=0$, $\\mathbf{w}^{(t)}=(0,\\ldots,0)$\n",
    "- Until convergence or reaching a specified t=T:\n",
    "  + if $\\exists i\\in[m]\\quad s.t.\\quad (\\mathbf{w}^{(t)} \\cdot \\mathbf{x}_i) y_i \\leq 0$ then\n",
    "  + Update: $\\mathbf{w}^{(t+1)}=\\mathbf{w}^{(t)}+y_i\\mathbf{x}_i$\n",
    "\n",
    "In the reliazable case the perceptron algorithm is garantee to converge. In the non-reliazable case one has to set a maximal number of iterations (to perform early stopping).\n",
    "\n",
    "The perceptron returns a linear classifier that divides the domain in two halfspaces along the affine function. \n",
    "\n",
    "Lets assume ${\\cal Y}=\\{-1,1\\}$. The hypothesis class of halfspaces can be defined as:\n",
    "$${\\cal H}_{half}=sign \\circ {\\cal L}_d=\\{\\mathbf{x}\\mapsto sign(h_{\\mathbf{w},b}(\\mathbf{x})), h_{\\mathbf{w},b}\\in{\\cal L}_d\\}$$\n",
    "\n",
    "### Logistic regression\n",
    "The *sigmoid* function $\\phi_{sig}:\\mathbb{R}\\rightarrow ]0,1[$ is defined by: $$\\phi_{sig}(z)=\\frac{1}{1+e^{-z}}$$\n",
    "\n",
    "In the logistic regression we learn an hypothesis from the following hypothesis class:\n",
    "$${\\cal H}_{sig}=\\phi_{sig} \\circ {\\cal L}_d=\\{\\mathbf{x}\\mapsto \\phi_{sig}(h_{\\mathbf{w},b}(\\mathbf{x})), h_{\\mathbf{w},b}\\in{\\cal L}_d\\}$$\n",
    "\n",
    "The output $h(\\mathbf{x})=\\phi_{sig}(\\mathbf{w}\\cdot \\mathbf{x})$ of an hypothesis $h \\in {\\cal H}_{sig}$ can be interpreted as the *probability* that $\\mathbf{x}$ is labeled 1, $$P(y=1|\\mathbf{x},y)=1-P(y=-1|\\mathbf{x},y).$$ \n",
    "\n",
    "$%-\\log(L(S|\\mathbf{w}))=-\\log(\\prod_{i=1}^m P(y_i=1|\\mathbf{x}_i,y_i)) = \\sum_{i=1}^m (-\\log(P(y_i=1|\\mathbf{x}_i,y_i)))$\n",
    "\n",
    "\n",
    "\n",
    "## iris Data\n",
    "![3 differents iris species](./iris-machinelearning.png)\n",
    "\n",
    "### Load the data\n",
    "It is a classical toy example, hence it is included in scikit-learn package."
   ]
  },
  {
   "cell_type": "code",
   "execution_count": 1,
   "metadata": {},
   "outputs": [],
   "source": [
    "from sklearn import datasets\n",
    "iris = datasets.load_iris()"
   ]
  },
  {
   "cell_type": "markdown",
   "metadata": {},
   "source": [
    "iris is a dictionary with the following keys:"
   ]
  },
  {
   "cell_type": "code",
   "execution_count": 2,
   "metadata": {},
   "outputs": [
    {
     "data": {
      "text/plain": [
       "dict_keys(['data', 'target', 'frame', 'target_names', 'DESCR', 'feature_names', 'filename'])"
      ]
     },
     "execution_count": 2,
     "metadata": {},
     "output_type": "execute_result"
    }
   ],
   "source": [
    "iris.keys()"
   ]
  },
  {
   "cell_type": "code",
   "execution_count": 3,
   "metadata": {},
   "outputs": [
    {
     "name": "stdout",
     "output_type": "stream",
     "text": [
      ".. _iris_dataset:\n",
      "\n",
      "Iris plants dataset\n",
      "--------------------\n",
      "\n",
      "**Data Set Characteristics:**\n",
      "\n",
      "    :Number of Instances: 150 (50 in each of three classes)\n",
      "    :Number of Attributes: 4 numeric, predictive attributes and the class\n",
      "    :Attribute Information:\n",
      "        - sepal length in cm\n",
      "        - sepal width in cm\n",
      "        - petal length in cm\n",
      "        - petal width in cm\n",
      "        - class:\n",
      "                - Iris-Setosa\n",
      "                - Iris-Versicolour\n",
      "                - Iris-Virginica\n",
      "                \n",
      "    :Summary Statistics:\n",
      "\n",
      "    ============== ==== ==== ======= ===== ====================\n",
      "                    Min  Max   Mean    SD   Class Correlation\n",
      "    ============== ==== ==== ======= ===== ====================\n",
      "    sepal length:   4.3  7.9   5.84   0.83    0.7826\n",
      "    sepal width:    2.0  4.4   3.05   0.43   -0.4194\n",
      "    petal length:   1.0  6.9   3.76   1.76    0.9490  (high!)\n",
      "    petal width:    0.1  2.5   1.20   0.76    0.9565  (high!)\n",
      "    ============== ==== ==== ======= ===== ====================\n",
      "\n",
      "    :Missing Attribute Values: None\n",
      "    :Class Distribution: 33.3% for each of 3 classes.\n",
      "    :Creator: R.A. Fisher\n",
      "    :Donor: Michael Marshall (MARSHALL%PLU@io.arc.nasa.gov)\n",
      "    :Date: July, 1988\n",
      "\n",
      "The famous Iris database, first used by Sir R.A. Fisher. The dataset is taken\n",
      "from Fisher's paper. Note that it's the same as in R, but not as in the UCI\n",
      "Machine Learning Repository, which has two wrong data points.\n",
      "\n",
      "This is perhaps the best known database to be found in the\n",
      "pattern recognition literature.  Fisher's paper is a classic in the field and\n",
      "is referenced frequently to this day.  (See Duda & Hart, for example.)  The\n",
      "data set contains 3 classes of 50 instances each, where each class refers to a\n",
      "type of iris plant.  One class is linearly separable from the other 2; the\n",
      "latter are NOT linearly separable from each other.\n",
      "\n",
      ".. topic:: References\n",
      "\n",
      "   - Fisher, R.A. \"The use of multiple measurements in taxonomic problems\"\n",
      "     Annual Eugenics, 7, Part II, 179-188 (1936); also in \"Contributions to\n",
      "     Mathematical Statistics\" (John Wiley, NY, 1950).\n",
      "   - Duda, R.O., & Hart, P.E. (1973) Pattern Classification and Scene Analysis.\n",
      "     (Q327.D83) John Wiley & Sons.  ISBN 0-471-22361-1.  See page 218.\n",
      "   - Dasarathy, B.V. (1980) \"Nosing Around the Neighborhood: A New System\n",
      "     Structure and Classification Rule for Recognition in Partially Exposed\n",
      "     Environments\".  IEEE Transactions on Pattern Analysis and Machine\n",
      "     Intelligence, Vol. PAMI-2, No. 1, 67-71.\n",
      "   - Gates, G.W. (1972) \"The Reduced Nearest Neighbor Rule\".  IEEE Transactions\n",
      "     on Information Theory, May 1972, 431-433.\n",
      "   - See also: 1988 MLC Proceedings, 54-64.  Cheeseman et al\"s AUTOCLASS II\n",
      "     conceptual clustering system finds 3 classes in the data.\n",
      "   - Many, many more ...\n"
     ]
    }
   ],
   "source": [
    "print(iris.DESCR)"
   ]
  },
  {
   "cell_type": "code",
   "execution_count": 4,
   "metadata": {},
   "outputs": [],
   "source": [
    "import pandas as pd\n",
    "X = pd.DataFrame(iris.data, columns=['sepal length','sepal width', 'petal length','petal width'])\n",
    "y = pd.Series(iris.target)"
   ]
  },
  {
   "cell_type": "markdown",
   "metadata": {},
   "source": [
    "> ### Questions:\n",
    "> 1. What is the domain set of the Iris dataset?\n",
    "> 1. Consider only 2 dimensions: visualise the dataset and the classes\n",
    "> 1.  Recode the classes to get a binary classification problem :\n",
    ">    * Iris setosa : -1\n",
    ">    * Iris Versicolor & Iris Virginica : 1\n",
    "> 1. Use the [perceptron algorithm](https://en.wikipedia.org/wiki/Perceptron), implemented in the scikit-learn library, to separate the 2 classes. Compute the empirical and generalization errors. Visualize the decision function (use the weights $w$).\n",
    "> 1. Use the logistic regression algorithm to separate the 2 classes. Compute the empirical and generalization errors. Visualize the decision function (use the weights $w$).\n",
    "> 1. Recode the classes\n",
    ">    * Iris Virginica : -1\n",
    ">    * Iris Setosa & Iris Versicolor : 1\n",
    "> 1. Repeat the questions 4 and 5 for this classification problem"
   ]
  },
  {
   "cell_type": "raw",
   "metadata": {},
   "source": [
    "#Q1\n",
    "The domain set of the Iris dataset is R^4"
   ]
  },
  {
   "cell_type": "code",
   "execution_count": 5,
   "metadata": {},
   "outputs": [
    {
     "data": {
      "image/png": "[encoded data removed]",
      "text/plain": [
       "<Figure size 432x288 with 1 Axes>"
      ]
     },
     "metadata": {
      "needs_background": "light"
     },
     "output_type": "display_data"
    },
    {
     "data": {
      "image/png": "[encoded data removed]",
      "text/plain": [
       "<Figure size 432x288 with 1 Axes>"
      ]
     },
     "metadata": {
      "needs_background": "light"
     },
     "output_type": "display_data"
    }
   ],
   "source": [
    "#Q2\n",
    "import matplotlib.pyplot as plt\n",
    "plt.scatter(X['sepal length'],X['sepal width'], c=y, cmap='plasma')\n",
    "plt.xlabel('sepal length')\n",
    "plt.ylabel('sepal width')\n",
    "plt.title('Petal length and width are not correlated')\n",
    "plt.show()\n",
    "plt.scatter(X['petal length'],X['petal width'], c=y, cmap='plasma')\n",
    "plt.xlabel('petal length')\n",
    "plt.ylabel('petal width')\n",
    "plt.title('Petal length and width seems to be correlated')\n",
    "plt.show()"
   ]
  },
  {
   "cell_type": "code",
   "execution_count": 10,
   "metadata": {},
   "outputs": [
    {
     "name": "stdout",
     "output_type": "stream",
     "text": [
      "0     -1\n",
      "1     -1\n",
      "2     -1\n",
      "3     -1\n",
      "4     -1\n",
      "      ..\n",
      "145    1\n",
      "146    1\n",
      "147    1\n",
      "148    1\n",
      "149    1\n",
      "Length: 150, dtype: int64\n"
     ]
    }
   ],
   "source": [
    "#Q3\n",
    "#Recode the classes to get a binary classification problem\n",
    "y_binary = y.replace({0:-1, 1:1, 2:1})\n",
    "print(y_binary)"
   ]
  },
  {
   "cell_type": "code",
   "execution_count": 20,
   "metadata": {},
   "outputs": [
    {
     "name": "stdout",
     "output_type": "stream",
     "text": [
      "     sepal length  sepal width  petal length  petal width\n",
      "81            5.5          2.4           3.7          1.0\n",
      "73            6.1          2.8           4.7          1.2\n",
      "120           6.9          3.2           5.7          2.3\n",
      "88            5.6          3.0           4.1          1.3\n",
      "110           6.5          3.2           5.1          2.0\n",
      "..            ...          ...           ...          ...\n",
      "74            6.4          2.9           4.3          1.3\n",
      "35            5.0          3.2           1.2          0.2\n",
      "141           6.9          3.1           5.1          2.3\n",
      "8             4.4          2.9           1.4          0.2\n",
      "20            5.4          3.4           1.7          0.2\n",
      "\n",
      "[120 rows x 4 columns]\n",
      "     sepal length  sepal width  petal length  petal width\n",
      "0             0.0          0.0           0.0          0.0\n",
      "1             0.0          0.0           0.0          0.0\n",
      "2             0.0          0.0           0.0          0.0\n",
      "3             0.0          0.0           0.0          0.0\n",
      "4             NaN          NaN           NaN          NaN\n",
      "..            ...          ...           ...          ...\n",
      "145           0.0          0.0           0.0          0.0\n",
      "146           0.0          0.0           0.0          0.0\n",
      "147           0.0          0.0           0.0          0.0\n",
      "148           0.0          0.0           0.0          0.0\n",
      "149           NaN          NaN           NaN          NaN\n",
      "\n",
      "[150 rows x 4 columns]\n",
      "0.0\n"
     ]
    }
   ],
   "source": [
    "#Q4\n",
    "from sklearn.linear_model import Perceptron\n",
    "from sklearn.metrics import zero_one_loss\n",
    "import pandas as pd\n",
    "\n",
    "x_train = X.sample(frac=0.8)\n",
    "x_test = X - x_train #pas bon\n",
    "print(x_train)\n",
    "print(x_test)\n",
    "\n",
    "# Train\n",
    "clf = Perceptron()\n",
    "clf.fit(X, y_binary)\n",
    "# Predict\n",
    "yhat_train = clf.predict(X)\n",
    "#Empirical loss\n",
    "loss = zero_one_loss(y_binary, yhat_train)\n",
    "print(loss)\n",
    "#Generalization error\n"
   ]
  }
 ],
 "metadata": {
  "kernelspec": {
   "display_name": "Python 3",
   "language": "python",
   "name": "python3"
  },
  "language_info": {
   "codemirror_mode": {
    "name": "ipython",
    "version": 3
   },
   "file_extension": ".py",
   "mimetype": "text/x-python",
   "name": "python",
   "nbconvert_exporter": "python",
   "pygments_lexer": "ipython3",
   "version": "3.8.3"
  }
 },
 "nbformat": 4,
 "nbformat_minor": 2
}
