{
 "cells": [
  {
   "cell_type": "markdown",
   "metadata": {},
   "source": [
    "# Regularization\n",
    "\n",
    "$$\\textrm{argmin}_\\mathbf{w} L_S(h_\\mathbf{w})=\\textrm{argmin}_\\mathbf{w} \\frac{1}{m}\\sum_{i=1}^m(\\mathbf{w}'\\cdot \\mathbf{x}_i' - y_i)^2 - \\lambda R(\\mathbf{w})$$\n",
    "\n",
    "\n",
    "|Regularization|    $R(\\mathbf{w})$ |      Definition     |  \n",
    "|:-------------|------------------|:-------------------:|\n",
    "|    Ridge     | ${||\\mathbf{w}||}_2^2 $ |  $\\sum_{i}w_i^2$ | \n",
    "|    Lasso     | ${||\\mathbf{w}||}_1 $ | $\\sum_{i}|w_i|$|\n",
    "\n",
    "https://scikit-learn.org/stable/modules/linear_model.html#ridge-regression-and-classification\n",
    "\n",
    "https://scikit-learn.org/stable/modules/linear_model.html#lasso\n",
    "\n",
    "### Question\n",
    "> 1. On the dataset dataA of Lab2, train a simple polynomial regressor of degree d=10 with a simple linear regression, a ridge regression and a lasso regression\n",
    "> 2. Compare the solutions obtained"
   ]
  },
  {
   "cell_type": "code",
   "execution_count": 1,
   "metadata": {},
   "outputs": [],
   "source": [
    "import pandas as pd\n",
    "import numpy as np\n",
    "import matplotlib.pyplot as plt\n",
    "%matplotlib inline"
   ]
  },
  {
   "cell_type": "markdown",
   "metadata": {},
   "source": [
    "def polynom_sample(x, coefs, sigma=5):\n",
    "    \"\"\"Une fonction pour associer un vecteur y e un vecteur x avec \n",
    "    une relation polynomiale de coefficient coefs et un bruit gaussien \n",
    "    de variance sigma\"\"\"\n",
    "    d = len(coefs) # le degre du polynome\n",
    "    y = sigma*np.random.randn(*x.shape) # initialise avec bruit gaussien \n",
    "    for i in range(d): # accumule le calcul du polynome\n",
    "        y = y + coefs[i]*( x**i) \n",
    "    return y\n",
    "\n",
    "def sample_x(N, a, b):\n",
    "    \"\"\"\n",
    "    Generate according to a gaussian mixture model\n",
    "    \"\"\"\n",
    "    rng = np.random.default_rng(seed=42)\n",
    "    k = 2\n",
    "    param = {'mean':[a+(b-a)/4, a+(b-a)*3/4], 'std': [(b-a)/8, (b-a)/8],\n",
    "             'mix':[1/3, 2/3]}\n",
    "    print(param)\n",
    "    data = []\n",
    "    for i in range(N):\n",
    "        # first sample de which gaussian\n",
    "        q = rng.choice(k, p=param['mix'])\n",
    "        # then sample from the domain according to the choosen gaussian \n",
    "        data.append(rng.normal(loc=param['mean'][q], scale=param['std'][q]))\n",
    "    return np.array(data)\n",
    "\n",
    "def data_sample2(N,name):\n",
    "    \"\"\"genere un ensemble de donnees de taille N tirees d'un polynome particulier - tirage non uniforme\"\"\"\n",
    "    a = -5 # borne inf\n",
    "    b = 5 # borne sup\n",
    "    coefs = [-5.200936516600877, 3.28592655]\n",
    "    #x = (b-a)*np.random.random_sample(N) + a # N points tires uniformement de l'intervalle [a,b]\n",
    "    x = sample_x(N+1, a, b) # N points tires dans l'intervalle [a,b]\n",
    "    y = polynom_sample(x, coefs, sigma=6)\n",
    "    df = pd.DataFrame({\"x\":x,\"y\":y})\n",
    "    df.to_csv(name+'.csv', index=False)"
   ]
  },
  {
   "cell_type": "markdown",
   "metadata": {},
   "source": [
    "data_sample2(100,\"data_train\")\n",
    "data_sample2(500,\"data_test\")"
   ]
  },
  {
   "cell_type": "code",
   "execution_count": 2,
   "metadata": {},
   "outputs": [],
   "source": [
    "set_=\"\""
   ]
  },
  {
   "cell_type": "code",
   "execution_count": 3,
   "metadata": {},
   "outputs": [],
   "source": [
    "train = pd.read_csv(\"./data\"+set_+\"_train.csv\")\n",
    "X_train = np.vstack(train.x) # column matrix instead of line vector\n",
    "y_train = train.y\n",
    "\n",
    "test = pd.read_csv(\"./data\"+set_+\"_test.csv\")\n",
    "X_test = np.vstack(test.x) # column matrix instead of line vector\n",
    "y_test = test.y"
   ]
  },
  {
   "cell_type": "code",
   "execution_count": 4,
   "metadata": {},
   "outputs": [
    {
     "name": "stdout",
     "output_type": "stream",
     "text": [
      "emp_error:  0.2638068196482446\n",
      "gen_error 13.661618169939125\n",
      "[ 0.000e+00  5.551e+00 -2.898e+00 -8.660e-01  6.960e-01  1.040e-01\n",
      " -6.100e-02 -4.000e-03  2.000e-03  0.000e+00 -0.000e+00]\n"
     ]
    },
    {
     "data": {
      "image/png": "[encoded data removed]",
      "text/plain": [
       "<Figure size 432x288 with 1 Axes>"
      ]
     },
     "metadata": {
      "needs_background": "light"
     },
     "output_type": "display_data"
    }
   ],
   "source": [
    "from sklearn.pipeline import make_pipeline\n",
    "from sklearn.linear_model import LinearRegression\n",
    "from sklearn.preprocessing import PolynomialFeatures\n",
    "from sklearn.metrics import explained_variance_score\n",
    "\n",
    "#simple polynomial regressor of degree d=10\n",
    "d = 10\n",
    "l = LinearRegression()\n",
    "poly_reg_lin = make_pipeline(PolynomialFeatures(d),l)\n",
    "\n",
    "poly_reg_lin.fit(X_train, y_train)\n",
    "xsupport = np.vstack(np.linspace(min(train.x), max(train.x), 500))\n",
    "yfit = poly_reg_lin.predict(xsupport)\n",
    "\n",
    "plt.scatter(X_train, y_train)\n",
    "plt.plot(xsupport, yfit)\n",
    "\n",
    "yhat_train = poly_reg_lin.predict(X_train)\n",
    "emp_error = 1-explained_variance_score(y_train, yhat_train)\n",
    "yhat_test = poly_reg_lin.predict(X_test)\n",
    "gen_error = 1-explained_variance_score(y_test, yhat_test)\n",
    "print(\"emp_error: \",emp_error)\n",
    "print(\"gen_error\",gen_error)\n",
    "print(np.round(l.coef_,3))\n",
    "poly_reg_lin_coef=l.coef_"
   ]
  },
  {
   "cell_type": "code",
   "execution_count": 5,
   "metadata": {},
   "outputs": [
    {
     "name": "stdout",
     "output_type": "stream",
     "text": [
      "emp_error:  0.26421445652189735\n",
      "gen_error 33.70454698845835\n",
      "[ 0.000e+00  4.639e+00 -2.630e+00 -4.260e-01  6.040e-01  3.600e-02\n",
      " -4.900e-02  0.000e+00  1.000e-03 -0.000e+00 -0.000e+00]\n"
     ]
    },
    {
     "ename": "AttributeError",
     "evalue": "'Pipeline' object has no attribute 'coef_'",
     "output_type": "error",
     "traceback": [
      "\u001b[1;31m---------------------------------------------------------------------------\u001b[0m",
      "\u001b[1;31mAttributeError\u001b[0m                            Traceback (most recent call last)",
      "\u001b[1;32m<ipython-input-5-6b8d2aaacdf3>\u001b[0m in \u001b[0;36m<module>\u001b[1;34m\u001b[0m\n\u001b[0;32m     18\u001b[0m \u001b[0mprint\u001b[0m\u001b[1;33m(\u001b[0m\u001b[1;34m\"gen_error\"\u001b[0m\u001b[1;33m,\u001b[0m\u001b[0mgen_error\u001b[0m\u001b[1;33m)\u001b[0m\u001b[1;33m\u001b[0m\u001b[1;33m\u001b[0m\u001b[0m\n\u001b[0;32m     19\u001b[0m \u001b[0mprint\u001b[0m\u001b[1;33m(\u001b[0m\u001b[0mnp\u001b[0m\u001b[1;33m.\u001b[0m\u001b[0mround\u001b[0m\u001b[1;33m(\u001b[0m\u001b[0mr\u001b[0m\u001b[1;33m.\u001b[0m\u001b[0mcoef_\u001b[0m\u001b[1;33m,\u001b[0m\u001b[1;36m3\u001b[0m\u001b[1;33m)\u001b[0m\u001b[1;33m)\u001b[0m\u001b[1;33m\u001b[0m\u001b[1;33m\u001b[0m\u001b[0m\n\u001b[1;32m---> 20\u001b[1;33m \u001b[0mridge_coef\u001b[0m\u001b[1;33m=\u001b[0m\u001b[0mridge\u001b[0m\u001b[1;33m.\u001b[0m\u001b[0mcoef_\u001b[0m\u001b[1;33m\u001b[0m\u001b[1;33m\u001b[0m\u001b[0m\n\u001b[0m",
      "\u001b[1;31mAttributeError\u001b[0m: 'Pipeline' object has no attribute 'coef_'"
     ]
    },
    {
     "data": {
      "image/png": "[encoded data removed]",
      "text/plain": [
       "<Figure size 432x288 with 1 Axes>"
      ]
     },
     "metadata": {
      "needs_background": "light"
     },
     "output_type": "display_data"
    }
   ],
   "source": [
    "from sklearn.linear_model import Ridge\n",
    "\n",
    "#ridge regression\n",
    "r = Ridge(alpha=1)\n",
    "ridge = make_pipeline(PolynomialFeatures(d),r)\n",
    "\n",
    "ridge.fit(X_train, y_train)\n",
    "yfit = ridge.predict(xsupport)\n",
    "\n",
    "plt.scatter(X_train, y_train)\n",
    "plt.plot(xsupport, yfit)\n",
    "\n",
    "yhat_train = ridge.predict(X_train)\n",
    "emp_error = 1-explained_variance_score(y_train, yhat_train)\n",
    "yhat_test = ridge.predict(X_test)\n",
    "gen_error = 1-explained_variance_score(y_test, yhat_test)\n",
    "print(\"emp_error: \",emp_error)\n",
    "print(\"gen_error\",gen_error)\n",
    "print(np.round(r.coef_,3))\n",
    "ridge_coef=r.coef_"
   ]
  },
  {
   "cell_type": "code",
   "execution_count": null,
   "metadata": {},
   "outputs": [],
   "source": [
    "from sklearn.linear_model import Lasso\n",
    "\n",
    "#lasso regression\n",
    "la = Lasso(tol=0.5)\n",
    "lasso = make_pipeline(PolynomialFeatures(d),la)\n",
    "\n",
    "lasso.fit(X_train, y_train)\n",
    "yfit = lasso.predict(xsupport)\n",
    "\n",
    "plt.scatter(X_train, y_train)\n",
    "plt.plot(xsupport, yfit)\n",
    "\n",
    "yhat_train = lasso.predict(X_train)\n",
    "emp_error = 1-explained_variance_score(y_train, yhat_train)\n",
    "yhat_test = lasso.predict(X_test)\n",
    "gen_error = 1-explained_variance_score(y_test, yhat_test)\n",
    "print(\"emp_error: \",emp_error)\n",
    "print(\"gen_error\",gen_error)\n",
    "print(np.round(la.coef_,3))\n",
    "lasso_coef=la.coef_"
   ]
  },
  {
   "cell_type": "code",
   "execution_count": null,
   "metadata": {},
   "outputs": [],
   "source": [
    "gen_errors = [] # generalization errors\n",
    "emp_errors = [] # training errors\n",
    "k_vals = list(range(1,400,2))\n",
    "\n",
    "for a in k_vals:\n",
    "    # Train\n",
    "    r = Ridge(alpha=a)\n",
    "    ridge = make_pipeline(PolynomialFeatures(d),r)\n",
    "    ridge.fit(X_train, y_train)\n",
    "    # Predict\n",
    "    yhat_train = ridge.predict(X_train)\n",
    "    emp_errors.append(1-explained_variance_score(y_train, yhat_train))#mean_squared_error(y, yhat_train))\n",
    "    yhat_test = ridge.predict(X_test)\n",
    "    gen_errors.append(1-explained_variance_score(y_test, yhat_test))#mean_squared_error(y_test, yhat_test))"
   ]
  },
  {
   "cell_type": "code",
   "execution_count": null,
   "metadata": {},
   "outputs": [],
   "source": [
    "k_errors = pd.DataFrame({\"k\":k_vals,\"empirical\":emp_errors,\"generalization\":gen_errors})\n",
    "ax=k_errors.plot(kind=\"line\",x=\"k\",y=\"empirical\",color=\"b\")\n",
    "k_errors.plot(kind=\"line\",x=\"k\",y=\"generalization\", color=\"r\",ax=ax,grid=True)"
   ]
  },
  {
   "cell_type": "code",
   "execution_count": null,
   "metadata": {},
   "outputs": [],
   "source": [
    "gen_errors = [] # generalization errors\n",
    "emp_errors = [] # training errors\n",
    "k_vals = list(range(1,400,2))\n",
    "\n",
    "for a in k_vals:\n",
    "    # Train\n",
    "    la = Lasso(tol=0.5,alpha=a)\n",
    "    lasso = make_pipeline(PolynomialFeatures(d),la)\n",
    "    lasso.fit(X_train, y_train)\n",
    "    # Predict\n",
    "    yhat_train = lasso.predict(X_train)\n",
    "    emp_errors.append(1-explained_variance_score(y_train, yhat_train))#mean_squared_error(y, yhat_train))\n",
    "    yhat_test = lasso.predict(X_test)\n",
    "    gen_errors.append(1-explained_variance_score(y_test, yhat_test))#mean_squared_error(y_test, yhat_test))"
   ]
  },
  {
   "cell_type": "code",
   "execution_count": null,
   "metadata": {},
   "outputs": [],
   "source": [
    "k_errors = pd.DataFrame({\"k\":k_vals,\"empirical\":emp_errors,\"generalization\":gen_errors})\n",
    "ax=k_errors.plot(kind=\"line\",x=\"k\",y=\"empirical\",color=\"b\")\n",
    "k_errors.plot(kind=\"line\",x=\"k\",y=\"generalization\", color=\"r\",ax=ax,grid=True)"
   ]
  }
 ],
 "metadata": {
  "kernelspec": {
   "display_name": "Python 3",
   "language": "python",
   "name": "python3"
  },
  "language_info": {
   "codemirror_mode": {
    "name": "ipython",
    "version": 3
   },
   "file_extension": ".py",
   "mimetype": "text/x-python",
   "name": "python",
   "nbconvert_exporter": "python",
   "pygments_lexer": "ipython3",
   "version": "3.8.3"
  }
 },
 "nbformat": 4,
 "nbformat_minor": 4
}
